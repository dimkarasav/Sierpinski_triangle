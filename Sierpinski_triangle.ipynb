#Algorithm creating and visualizing the Sierpinski triangle
